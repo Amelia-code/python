{
 "cells": [
  {
   "cell_type": "code",
   "execution_count": 1,
   "id": "49b5f2d1",
   "metadata": {},
   "outputs": [],
   "source": [
    "import pandas as pd\n",
    "import numpy as np\n",
    "import math\n",
    "from scipy import stats \n",
    "import os\n",
    "import warnings\n",
    "warnings.simplefilter(action = 'ignore', category = FutureWarning)\n",
    "import matplotlib.pyplot as plt \n",
    "%matplotlib inline\n",
    "import seaborn as sns\n",
    "\n",
    "\n",
    "import os\n",
    "if os.name == 'nt' :\n",
    "    font_family = 'Malgun Gothic'\n",
    "else:\n",
    "    font_family = 'AppleGothic'\n",
    "\n",
    "sns.set(font=font_family, rc = {\"axes.unicode_minus\" : False})"
   ]
  },
  {
   "cell_type": "code",
   "execution_count": 3,
   "id": "d26b11cb",
   "metadata": {},
   "outputs": [],
   "source": [
    "# data create\n",
    "np.random.seed(100)\n",
    "\n",
    "math_score = pd.DataFrame(np.random.randint(25,101, size=500), columns=['점수'])\n"
   ]
  },
  {
   "cell_type": "code",
   "execution_count": 4,
   "id": "9b4f4ffc",
   "metadata": {},
   "outputs": [
    {
     "data": {
      "text/html": [
       "<div>\n",
       "<style scoped>\n",
       "    .dataframe tbody tr th:only-of-type {\n",
       "        vertical-align: middle;\n",
       "    }\n",
       "\n",
       "    .dataframe tbody tr th {\n",
       "        vertical-align: top;\n",
       "    }\n",
       "\n",
       "    .dataframe thead th {\n",
       "        text-align: right;\n",
       "    }\n",
       "</style>\n",
       "<table border=\"1\" class=\"dataframe\">\n",
       "  <thead>\n",
       "    <tr style=\"text-align: right;\">\n",
       "      <th></th>\n",
       "      <th>점수</th>\n",
       "    </tr>\n",
       "  </thead>\n",
       "  <tbody>\n",
       "    <tr>\n",
       "      <th>count</th>\n",
       "      <td>500.000000</td>\n",
       "    </tr>\n",
       "    <tr>\n",
       "      <th>mean</th>\n",
       "      <td>61.580000</td>\n",
       "    </tr>\n",
       "    <tr>\n",
       "      <th>std</th>\n",
       "      <td>21.513374</td>\n",
       "    </tr>\n",
       "    <tr>\n",
       "      <th>min</th>\n",
       "      <td>25.000000</td>\n",
       "    </tr>\n",
       "    <tr>\n",
       "      <th>25%</th>\n",
       "      <td>42.000000</td>\n",
       "    </tr>\n",
       "    <tr>\n",
       "      <th>50%</th>\n",
       "      <td>62.500000</td>\n",
       "    </tr>\n",
       "    <tr>\n",
       "      <th>75%</th>\n",
       "      <td>79.000000</td>\n",
       "    </tr>\n",
       "    <tr>\n",
       "      <th>max</th>\n",
       "      <td>100.000000</td>\n",
       "    </tr>\n",
       "  </tbody>\n",
       "</table>\n",
       "</div>"
      ],
      "text/plain": [
       "               점수\n",
       "count  500.000000\n",
       "mean    61.580000\n",
       "std     21.513374\n",
       "min     25.000000\n",
       "25%     42.000000\n",
       "50%     62.500000\n",
       "75%     79.000000\n",
       "max    100.000000"
      ]
     },
     "execution_count": 4,
     "metadata": {},
     "output_type": "execute_result"
    }
   ],
   "source": [
    "math_score.describe()"
   ]
  },
  {
   "cell_type": "code",
   "execution_count": 5,
   "id": "01da6795",
   "metadata": {},
   "outputs": [
    {
     "data": {
      "text/plain": [
       "array([33, 49, 92, 73, 35])"
      ]
     },
     "execution_count": 5,
     "metadata": {},
     "output_type": "execute_result"
    }
   ],
   "source": [
    "scores = np.array(math_score['점수'])\n",
    "scores[:5]"
   ]
  },
  {
   "cell_type": "code",
   "execution_count": 6,
   "id": "160b8ad9",
   "metadata": {},
   "outputs": [
    {
     "name": "stdout",
     "output_type": "stream",
     "text": [
      "1 표본평균 75.9\n",
      "2 표본평균 67.0\n",
      "3 표본평균 61.55\n",
      "4 표본평균 59.55\n",
      "5 표본평균 62.6\n",
      "6 표본평균 57.95\n",
      "7 표본평균 57.8\n",
      "8 표본평균 59.85\n",
      "9 표본평균 65.05\n",
      "10 표본평균 60.0\n"
     ]
    }
   ],
   "source": [
    "# 20ea sample (restore extract )\n",
    "for i in range(10):\n",
    "    sample1 = np.random.choice(scores,20)\n",
    "    print(i+1, '표본평균', sample1.mean())"
   ]
  },
  {
   "cell_type": "code",
   "execution_count": 8,
   "id": "b9e7b2df",
   "metadata": {},
   "outputs": [
    {
     "data": {
      "image/png": "[encoded data removed]",
      "text/plain": [
       "<Figure size 432x288 with 1 Axes>"
      ]
     },
     "metadata": {},
     "output_type": "display_data"
    }
   ],
   "source": [
    "plt.xlabel('score')\n",
    "plt.ylabel('relative frequency')\n",
    "plt.hist(scores, bins=100, range=(0,100), density=True)  # density = True면 상대도수\n",
    "plt.xlim(20,100)\n",
    "plt.show()"
   ]
  },
  {
   "cell_type": "code",
   "execution_count": 11,
   "id": "2fd431f9",
   "metadata": {},
   "outputs": [
    {
     "data": {
      "image/png": "[encoded data removed]",
      "text/plain": [
       "<Figure size 432x288 with 1 Axes>"
      ]
     },
     "metadata": {},
     "output_type": "display_data"
    }
   ],
   "source": [
    "# samle2  10000ea\n",
    "sample_score = np.random.choice(scores, 10000)\n",
    "\n",
    "plt.hist(sample_score, bins = 100, range=(0,100), density = True)\n",
    "plt.xlim(20,100)\n",
    "plt.show()"
   ]
  },
  {
   "cell_type": "code",
   "execution_count": 12,
   "id": "277f1823",
   "metadata": {},
   "outputs": [],
   "source": [
    "# 20ea (N)의 표본 100번 추출\n",
    "n = 20\n",
    "nSample = 100\n",
    "\n",
    "sample_mean = np.array([np.random.choice(scores,n,).mean() for _ in range(nSample)])"
   ]
  },
  {
   "cell_type": "code",
   "execution_count": 13,
   "id": "9e7e0104",
   "metadata": {},
   "outputs": [
    {
     "data": {
      "text/plain": [
       "array([70.25, 71.05, 64.25, 66.  , 62.4 , 60.3 , 55.55, 61.2 , 67.05,\n",
       "       61.9 , 61.05, 56.65, 54.25, 60.95, 54.3 , 66.15, 61.15, 68.45,\n",
       "       57.55, 66.7 , 60.55, 57.75, 62.3 , 65.25, 63.8 , 65.9 , 63.5 ,\n",
       "       62.65, 57.05, 57.65, 61.95, 56.  , 60.55, 57.6 , 61.15, 68.2 ,\n",
       "       63.25, 62.65, 67.85, 66.5 , 62.9 , 69.85, 67.3 , 58.  , 64.7 ,\n",
       "       60.9 , 60.75, 53.15, 54.7 , 63.  , 60.85, 60.4 , 60.25, 61.85,\n",
       "       58.7 , 64.8 , 65.55, 64.5 , 63.65, 67.25, 69.05, 62.95, 58.55,\n",
       "       58.95, 63.75, 59.7 , 59.4 , 64.7 , 61.8 , 48.15, 61.2 , 59.95,\n",
       "       63.  , 61.  , 65.95, 58.35, 67.  , 53.55, 69.75, 65.25, 66.5 ,\n",
       "       61.25, 59.55, 56.85, 60.25, 55.45, 60.9 , 56.65, 57.65, 54.  ,\n",
       "       54.2 , 60.1 , 65.2 , 68.25, 51.25, 64.9 , 67.65, 67.45, 72.7 ,\n",
       "       64.4 ])"
      ]
     },
     "execution_count": 13,
     "metadata": {},
     "output_type": "execute_result"
    }
   ],
   "source": [
    "sample_mean"
   ]
  },
  {
   "cell_type": "code",
   "execution_count": 19,
   "id": "37209c52",
   "metadata": {},
   "outputs": [
    {
     "name": "stdout",
     "output_type": "stream",
     "text": [
      "모평균 : 61.58\n",
      "표본평균의 평균 : 61.89449999999999\n",
      "모분산/n : 23.09498\n",
      "표본평균의 분산 : 4.674558241160335\n",
      "표본평균의 표준편차 : 4.674558241160335\n",
      "표준오차 : 4.805723670790903\n"
     ]
    }
   ],
   "source": [
    "# 모평균\n",
    "print('모평균 :', scores.mean())\n",
    "\n",
    "# 표분평균의 평균 <= 모집단을 모를 경우 표본평균이 모수로 추정\n",
    "print('표본평균의 평균 :', sample_mean.mean())\n",
    "\n",
    "# 모분산/n\n",
    "print('모분산/n :', scores.var()/n)\n",
    "\n",
    "# 표분평균의 분산\n",
    "print('표본평균의 분산 :', sample_mean.std())\n",
    "\n",
    "# 표본평균의 편차\n",
    "print('표본평균의 표준편차 :', sample_mean.std())\n",
    "\n",
    "# 표준오차 : standard error of the mean\n",
    "print('표준오차 :', scores.std()/math.sqrt(n))"
   ]
  },
  {
   "cell_type": "code",
   "execution_count": null,
   "id": "8a4b55a3",
   "metadata": {},
   "outputs": [],
   "source": []
  },
  {
   "cell_type": "code",
   "execution_count": null,
   "id": "88c98408",
   "metadata": {},
   "outputs": [],
   "source": []
  },
  {
   "cell_type": "code",
   "execution_count": null,
   "id": "50af8135",
   "metadata": {},
   "outputs": [],
   "source": []
  }
 ],
 "metadata": {
  "kernelspec": {
   "display_name": "Python 3 (ipykernel)",
   "language": "python",
   "name": "python3"
  },
  "language_info": {
   "codemirror_mode": {
    "name": "ipython",
    "version": 3
   },
   "file_extension": ".py",
   "mimetype": "text/x-python",
   "name": "python",
   "nbconvert_exporter": "python",
   "pygments_lexer": "ipython3",
   "version": "3.9.12"
  }
 },
 "nbformat": 4,
 "nbformat_minor": 5
}

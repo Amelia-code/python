{
 "cells": [
  {
   "cell_type": "code",
   "execution_count": 1,
   "id": "140e59b8",
   "metadata": {},
   "outputs": [
    {
     "name": "stdout",
     "output_type": "stream",
     "text": [
      "고양이!\n"
     ]
    }
   ],
   "source": [
    "print(\"고양이!\")"
   ]
  },
  {
   "cell_type": "code",
   "execution_count": 3,
   "id": "6de7fe33",
   "metadata": {},
   "outputs": [
    {
     "name": "stdout",
     "output_type": "stream",
     "text": [
      "고양이\n"
     ]
    }
   ],
   "source": [
    "a = (input())"
   ]
  },
  {
   "cell_type": "code",
   "execution_count": 8,
   "id": "47ce5d4d",
   "metadata": {},
   "outputs": [
    {
     "name": "stdout",
     "output_type": "stream",
     "text": [
      "\\    /\\\n",
      " )  ( ')\n",
      "(  /  )\n",
      " \\(__)|\n"
     ]
    }
   ],
   "source": [
    "if (a == \"고양이\") : \n",
    "    print(\"\\\\    /\\\\\")\n",
    "    print(\" )  ( ')\")\n",
    "    print(\"(  /  )\")\n",
    "    print(\" \\\\(__)|\")    \n",
    "else :\n",
    "     print(\"False\")"
   ]
  },
  {
   "cell_type": "code",
   "execution_count": null,
   "id": "5de17d72",
   "metadata": {},
   "outputs": [],
   "source": [
    "#메루야 밤길 조심행! "
   ]
  },
  {
   "cell_type": "code",
   "execution_count": null,
   "id": "7f5556c2",
   "metadata": {},
   "outputs": [],
   "source": []
  },
  {
   "cell_type": "code",
   "execution_count": null,
   "id": "bde965ab",
   "metadata": {},
   "outputs": [],
   "source": []
  },
  {
   "cell_type": "code",
   "execution_count": null,
   "id": "005d90b1",
   "metadata": {},
   "outputs": [],
   "source": []
  },
  {
   "cell_type": "code",
   "execution_count": null,
   "id": "12f13de1",
   "metadata": {},
   "outputs": [],
   "source": []
  },
  {
   "cell_type": "code",
   "execution_count": null,
   "id": "94e3087d",
   "metadata": {},
   "outputs": [],
   "source": []
  },
  {
   "cell_type": "code",
   "execution_count": null,
   "id": "9c27448a",
   "metadata": {},
   "outputs": [],
   "source": []
  },
  {
   "cell_type": "code",
   "execution_count": null,
   "id": "fdde19d3",
   "metadata": {},
   "outputs": [],
   "source": []
  }
 ],
 "metadata": {
  "kernelspec": {
   "display_name": "Python 3 (ipykernel)",
   "language": "python",
   "name": "python3"
  },
  "language_info": {
   "codemirror_mode": {
    "name": "ipython",
    "version": 3
   },
   "file_extension": ".py",
   "mimetype": "text/x-python",
   "name": "python",
   "nbconvert_exporter": "python",
   "pygments_lexer": "ipython3",
   "version": "3.9.12"
  }
 },
 "nbformat": 4,
 "nbformat_minor": 5
}

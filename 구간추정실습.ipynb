{
 "cells": [
  {
   "cell_type": "code",
   "execution_count": 1,
   "id": "9aa25c98",
   "metadata": {},
   "outputs": [],
   "source": [
    "from scipy.stats import t\n",
    "t_95 = t.ppf(1- (1-0.95) / 2, df = 20-1)"
   ]
  },
  {
   "cell_type": "code",
   "execution_count": 2,
   "id": "a7d28ced",
   "metadata": {},
   "outputs": [],
   "source": [
    "import pandas as pd\n",
    "import numpy as np\n",
    "import math\n",
    "from scipy import stats \n",
    "import os\n",
    "import warnings\n",
    "warnings.simplefilter(action = 'ignore', category = FutureWarning)\n",
    "import matplotlib.pyplot as plt \n",
    "%matplotlib inline\n",
    "import seaborn as sns\n",
    "\n",
    "\n",
    "import os\n",
    "if os.name == 'nt' :\n",
    "    font_family = 'Malgun Gothic'\n",
    "else:\n",
    "    font_family = 'AppleGothic'\n",
    "\n",
    "sns.set(font=font_family, rc = {\"axes.unicode_minus\" : False})"
   ]
  },
  {
   "cell_type": "code",
   "execution_count": 3,
   "id": "e73e257c",
   "metadata": {},
   "outputs": [],
   "source": [
    "# data create\n",
    "np.random.seed(100)\n",
    "\n",
    "math_score = pd.DataFrame(np.random.randint(25,101, size=500), columns=['점수'])\n"
   ]
  },
  {
   "cell_type": "code",
   "execution_count": 4,
   "id": "0307ff5b",
   "metadata": {},
   "outputs": [
    {
     "data": {
      "text/plain": [
       "array([33, 49, 92, 73, 35])"
      ]
     },
     "execution_count": 4,
     "metadata": {},
     "output_type": "execute_result"
    }
   ],
   "source": [
    "scores = np.array(math_score['점수'])\n",
    "scores[:5]"
   ]
  },
  {
   "cell_type": "code",
   "execution_count": 5,
   "id": "9263e011",
   "metadata": {},
   "outputs": [
    {
     "name": "stdout",
     "output_type": "stream",
     "text": [
      "1 표본평균 75.9\n",
      "2 표본평균 67.0\n",
      "3 표본평균 61.55\n",
      "4 표본평균 59.55\n",
      "5 표본평균 62.6\n",
      "6 표본평균 57.95\n",
      "7 표본평균 57.8\n",
      "8 표본평균 59.85\n",
      "9 표본평균 65.05\n",
      "10 표본평균 60.0\n"
     ]
    }
   ],
   "source": [
    "# 20ea sample (restore extract )\n",
    "for i in range(10):\n",
    "    sample1 = np.random.choice(scores,20)\n",
    "    print(i+1, '표본평균', sample1.mean())"
   ]
  },
  {
   "cell_type": "code",
   "execution_count": 6,
   "id": "b8523640",
   "metadata": {},
   "outputs": [],
   "source": [
    "# 20ea (N)의 표본 100번 추출\n",
    "n = 20\n",
    "nSample = 100\n",
    "\n",
    "sample_mean = np.array([np.random.choice(scores,n,).mean() for _ in range(nSample)])"
   ]
  },
  {
   "cell_type": "code",
   "execution_count": 7,
   "id": "94657001",
   "metadata": {},
   "outputs": [
    {
     "data": {
      "text/plain": [
       "2.093024054408263"
      ]
     },
     "execution_count": 7,
     "metadata": {},
     "output_type": "execute_result"
    }
   ],
   "source": [
    "t_95"
   ]
  },
  {
   "cell_type": "code",
   "execution_count": 8,
   "id": "02f12b6b",
   "metadata": {},
   "outputs": [
    {
     "name": "stdout",
     "output_type": "stream",
     "text": [
      "59.1306007816482\n",
      "63.9813992183518\n",
      "신뢰구간: 4.850798436703599\n"
     ]
    }
   ],
   "source": [
    "#20개(n)의 표본 100개 추출\n",
    "#95% 신뢰구간 추정: t통계량 2.093\n",
    "\n",
    "sMean = sample_mean.mean()\n",
    "sStd = sample_mean.std()\n",
    "\n",
    "Low_c = sMean - t_95*(sStd / math.sqrt(n))\n",
    "Upper_c = sMean + t_95*(sStd / math.sqrt(n))\n",
    "print(Low_c)\n",
    "print(Upper_c)\n",
    "# 95% 신뢰로 모평균 59~ 64점 사이에 존재(추정)\n",
    "print('신뢰구간:', Upper_c-Low_c)"
   ]
  },
  {
   "cell_type": "code",
   "execution_count": null,
   "id": "6d7eb31f",
   "metadata": {},
   "outputs": [],
   "source": [
    "# 임계값\n",
    "z_95 = st"
   ]
  },
  {
   "cell_type": "code",
   "execution_count": null,
   "id": "6537cf15",
   "metadata": {},
   "outputs": [],
   "source": []
  },
  {
   "cell_type": "code",
   "execution_count": null,
   "id": "52a0f63b",
   "metadata": {},
   "outputs": [],
   "source": []
  },
  {
   "cell_type": "code",
   "execution_count": null,
   "id": "0d2afcc8",
   "metadata": {},
   "outputs": [],
   "source": []
  },
  {
   "cell_type": "code",
   "execution_count": null,
   "id": "e637a05c",
   "metadata": {},
   "outputs": [],
   "source": []
  },
  {
   "cell_type": "code",
   "execution_count": null,
   "id": "c95e1324",
   "metadata": {},
   "outputs": [],
   "source": []
  },
  {
   "cell_type": "code",
   "execution_count": null,
   "id": "6a500cf9",
   "metadata": {},
   "outputs": [],
   "source": []
  },
  {
   "cell_type": "code",
   "execution_count": null,
   "id": "ac06274e",
   "metadata": {},
   "outputs": [],
   "source": []
  },
  {
   "cell_type": "code",
   "execution_count": null,
   "id": "381b77e4",
   "metadata": {},
   "outputs": [],
   "source": []
  },
  {
   "cell_type": "code",
   "execution_count": null,
   "id": "bbae0c1f",
   "metadata": {},
   "outputs": [],
   "source": []
  },
  {
   "cell_type": "code",
   "execution_count": null,
   "id": "f5779ab6",
   "metadata": {},
   "outputs": [],
   "source": []
  },
  {
   "cell_type": "code",
   "execution_count": null,
   "id": "f23a1c7a",
   "metadata": {},
   "outputs": [],
   "source": []
  },
  {
   "cell_type": "code",
   "execution_count": null,
   "id": "3a2ce344",
   "metadata": {},
   "outputs": [],
   "source": []
  },
  {
   "cell_type": "code",
   "execution_count": null,
   "id": "daad3f7d",
   "metadata": {},
   "outputs": [],
   "source": []
  },
  {
   "cell_type": "code",
   "execution_count": null,
   "id": "2371afff",
   "metadata": {},
   "outputs": [],
   "source": []
  },
  {
   "cell_type": "code",
   "execution_count": null,
   "id": "5a129228",
   "metadata": {},
   "outputs": [],
   "source": []
  },
  {
   "cell_type": "code",
   "execution_count": null,
   "id": "828819e8",
   "metadata": {},
   "outputs": [],
   "source": []
  },
  {
   "cell_type": "code",
   "execution_count": null,
   "id": "fcb77bd4",
   "metadata": {},
   "outputs": [],
   "source": []
  },
  {
   "cell_type": "code",
   "execution_count": null,
   "id": "4090fd5d",
   "metadata": {},
   "outputs": [],
   "source": []
  },
  {
   "cell_type": "code",
   "execution_count": null,
   "id": "8790b6a5",
   "metadata": {},
   "outputs": [],
   "source": []
  },
  {
   "cell_type": "code",
   "execution_count": null,
   "id": "a4d4266a",
   "metadata": {},
   "outputs": [],
   "source": []
  },
  {
   "cell_type": "code",
   "execution_count": null,
   "id": "d4624441",
   "metadata": {},
   "outputs": [],
   "source": []
  },
  {
   "cell_type": "code",
   "execution_count": null,
   "id": "66acd514",
   "metadata": {},
   "outputs": [],
   "source": []
  },
  {
   "cell_type": "code",
   "execution_count": null,
   "id": "7690911d",
   "metadata": {},
   "outputs": [],
   "source": []
  },
  {
   "cell_type": "code",
   "execution_count": null,
   "id": "c622e8d7",
   "metadata": {},
   "outputs": [],
   "source": []
  },
  {
   "cell_type": "code",
   "execution_count": null,
   "id": "56ad3ef1",
   "metadata": {},
   "outputs": [],
   "source": []
  },
  {
   "cell_type": "code",
   "execution_count": null,
   "id": "89746da5",
   "metadata": {},
   "outputs": [],
   "source": []
  },
  {
   "cell_type": "code",
   "execution_count": null,
   "id": "89f762f1",
   "metadata": {},
   "outputs": [],
   "source": []
  },
  {
   "cell_type": "code",
   "execution_count": null,
   "id": "444f7ce2",
   "metadata": {},
   "outputs": [],
   "source": []
  },
  {
   "cell_type": "code",
   "execution_count": null,
   "id": "9f28ddb9",
   "metadata": {},
   "outputs": [],
   "source": []
  },
  {
   "cell_type": "code",
   "execution_count": null,
   "id": "cad88daf",
   "metadata": {},
   "outputs": [],
   "source": []
  },
  {
   "cell_type": "code",
   "execution_count": null,
   "id": "15ea6673",
   "metadata": {},
   "outputs": [],
   "source": []
  },
  {
   "cell_type": "code",
   "execution_count": null,
   "id": "f8c01959",
   "metadata": {},
   "outputs": [],
   "source": []
  },
  {
   "cell_type": "code",
   "execution_count": null,
   "id": "c7761622",
   "metadata": {},
   "outputs": [],
   "source": []
  },
  {
   "cell_type": "code",
   "execution_count": null,
   "id": "823e7e17",
   "metadata": {},
   "outputs": [],
   "source": []
  },
  {
   "cell_type": "code",
   "execution_count": null,
   "id": "4564c4a4",
   "metadata": {},
   "outputs": [],
   "source": []
  },
  {
   "cell_type": "code",
   "execution_count": null,
   "id": "51dd3b5c",
   "metadata": {},
   "outputs": [],
   "source": []
  }
 ],
 "metadata": {
  "kernelspec": {
   "display_name": "Python 3 (ipykernel)",
   "language": "python",
   "name": "python3"
  },
  "language_info": {
   "codemirror_mode": {
    "name": "ipython",
    "version": 3
   },
   "file_extension": ".py",
   "mimetype": "text/x-python",
   "name": "python",
   "nbconvert_exporter": "python",
   "pygments_lexer": "ipython3",
   "version": "3.9.12"
  }
 },
 "nbformat": 4,
 "nbformat_minor": 5
}

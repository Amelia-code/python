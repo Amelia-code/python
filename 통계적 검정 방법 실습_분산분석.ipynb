{
 "cells": [
  {
   "cell_type": "code",
   "execution_count": 1,
   "outputs": [],
   "source": [
    "import pandas as pd\n",
    "import numpy as np\n",
    "from scipy import stats\n",
    "import os\n",
    "import warnings\n",
    "warnings.simplefilter(action = 'ignore', category=FutureWarning)\n",
    "\n",
    "import matplotlib.pyplot as plt\n",
    "%matplotlib inline\n",
    "import seaborn as sns\n",
    "\n",
    "import os\n",
    "if os.name == 'nt' :\n",
    "    font_family = \"Malgun Gothic\"\n",
    "else:\n",
    "    font_family = \"AppleGothic\"\n",
    "\n",
    "sns.set(font=font_family, rc = {\"axes.unicode_minus\" : False})"
   ],
   "metadata": {
    "collapsed": false,
    "pycharm": {
     "name": "#%%\n"
    }
   }
  },
  {
   "cell_type": "code",
   "execution_count": 2,
   "outputs": [
    {
     "name": "stdout",
     "output_type": "stream",
     "text": [
      "a 평균: 79.0\n",
      "b 평균: 65.375\n",
      "c 평균: 63.375\n",
      "d 평균: 69.5\n"
     ]
    }
   ],
   "source": [
    "a=[66,74,82,75,73,97,87,78]\n",
    "b=[72,51,59,62,74,64,78,63]\n",
    "c=[61,30,57,60,81,77,70,71]\n",
    "d=[63,61,76,84,58,65,69,80]\n",
    "print(\"a 평균:\",np.mean(a))\n",
    "print(\"b 평균:\",np.mean(b))\n",
    "print(\"c 평균:\",np.mean(c))\n",
    "print(\"d 평균:\",np.mean(d))"
   ],
   "metadata": {
    "collapsed": false,
    "pycharm": {
     "name": "#%%\n"
    }
   }
  },
  {
   "cell_type": "code",
   "execution_count": 3,
   "outputs": [
    {
     "data": {
      "text/plain": "<Figure size 432x288 with 1 Axes>",
      "image/png": "[encoded data removed]"
     },
     "metadata": {},
     "output_type": "display_data"
    }
   ],
   "source": [
    "plot_data = [a,b,c,d]\n",
    "plt.boxplot(plot_data)\n",
    "plt.xticks([1,2,3,4], ['a','b','c','d'])\n",
    "plt.grid(True)\n",
    "plt.show()"
   ],
   "metadata": {
    "collapsed": false,
    "pycharm": {
     "name": "#%%\n"
    }
   }
  },
  {
   "cell_type": "code",
   "execution_count": 5,
   "outputs": [
    {
     "data": {
      "text/plain": "   점수 교육기관\n0  66    a\n1  74    a\n2  82    a\n3  75    a",
      "text/html": "<div>\n<style scoped>\n    .dataframe tbody tr th:only-of-type {\n        vertical-align: middle;\n    }\n\n    .dataframe tbody tr th {\n        vertical-align: top;\n    }\n\n    .dataframe thead th {\n        text-align: right;\n    }\n</style>\n<table border=\"1\" class=\"dataframe\">\n  <thead>\n    <tr style=\"text-align: right;\">\n      <th></th>\n      <th>점수</th>\n      <th>교육기관</th>\n    </tr>\n  </thead>\n  <tbody>\n    <tr>\n      <th>0</th>\n      <td>66</td>\n      <td>a</td>\n    </tr>\n    <tr>\n      <th>1</th>\n      <td>74</td>\n      <td>a</td>\n    </tr>\n    <tr>\n      <th>2</th>\n      <td>82</td>\n      <td>a</td>\n    </tr>\n    <tr>\n      <th>3</th>\n      <td>75</td>\n      <td>a</td>\n    </tr>\n  </tbody>\n</table>\n</div>"
     },
     "execution_count": 5,
     "metadata": {},
     "output_type": "execute_result"
    }
   ],
   "source": [
    "check = ['a','b','c','d']\n",
    "check = [check[j] for j in range(4) for i in range(8)]\n",
    "data = pd.DataFrame({'점수' : a+b+c+d, '교육기관':check})\n",
    "data.head(4)"
   ],
   "metadata": {
    "collapsed": false,
    "pycharm": {
     "name": "#%%\n"
    }
   }
  },
  {
   "cell_type": "code",
   "execution_count": 7,
   "outputs": [
    {
     "name": "stdout",
     "output_type": "stream",
     "text": [
      "KstestResult(statistic=0.625, pvalue=0.08702408702408701)\n",
      "KstestResult(statistic=0.625, pvalue=0.08702408702408701)\n",
      "KstestResult(statistic=0.5, pvalue=0.2826728826728826)\n",
      "KstestResult(statistic=0.25, pvalue=0.98010878010878)\n",
      "KstestResult(statistic=0.25, pvalue=0.98010878010878)\n",
      "KstestResult(statistic=0.25, pvalue=0.98010878010878)\n",
      "등분산성 검정\n",
      "LeveneResult(statistic=0.7101958814665997, pvalue=0.5540752176259733)\n",
      "BartlettResult(statistic=3.3373462430353755, pvalue=0.3424784757344966)\n"
     ]
    }
   ],
   "source": [
    "print(stats.ks_2samp(a,b), stats.ks_2samp(a,c), stats.ks_2samp(a,d),\n",
    "      stats.ks_2samp(b,c), stats.ks_2samp(b,d),\n",
    "      stats.ks_2samp(c,d), sep='\\n')\n",
    "\n",
    "print('등분산성 검정')\n",
    "from scipy.stats import levene\n",
    "print(levene(a,b,c,d))\n",
    "\n",
    "from scipy.stats import bartlett\n",
    "print(bartlett(a,b,c,d))"
   ],
   "metadata": {
    "collapsed": false,
    "pycharm": {
     "name": "#%%\n"
    }
   }
  },
  {
   "cell_type": "code",
   "execution_count": 8,
   "outputs": [
    {
     "name": "stdout",
     "output_type": "stream",
     "text": [
      "F=3.0, p=0.047\n",
      "귀무가설 기각, 4개의 교육훈련 기법간의 차이가 있다.\n"
     ]
    }
   ],
   "source": [
    "f_statistic, pval = stats.f_oneway(a,b,c,d)\n",
    "\n",
    "print('F={0:.1f}, p={1:.3f}'.format(f_statistic, pval))\n",
    "\n",
    "if pval < 0.05:\n",
    "    print('귀무가설 기각, 4개의 교육훈련 기법간의 차이가 있다.')\n",
    "else:\n",
    "    print('귀무가설 채택, 4개의 교육훈련 기법간의 차이가 없다.')"
   ],
   "metadata": {
    "collapsed": false,
    "pycharm": {
     "name": "#%%\n"
    }
   }
  },
  {
   "cell_type": "code",
   "execution_count": 9,
   "outputs": [
    {
     "data": {
      "text/plain": "            df    sum_sq     mean_sq         F    PR(>F)\nC(교육기관)    3.0  1157.125  385.708333  3.010197  0.046812\nResidual  28.0  3587.750  128.133929       NaN       NaN",
      "text/html": "<div>\n<style scoped>\n    .dataframe tbody tr th:only-of-type {\n        vertical-align: middle;\n    }\n\n    .dataframe tbody tr th {\n        vertical-align: top;\n    }\n\n    .dataframe thead th {\n        text-align: right;\n    }\n</style>\n<table border=\"1\" class=\"dataframe\">\n  <thead>\n    <tr style=\"text-align: right;\">\n      <th></th>\n      <th>df</th>\n      <th>sum_sq</th>\n      <th>mean_sq</th>\n      <th>F</th>\n      <th>PR(&gt;F)</th>\n    </tr>\n  </thead>\n  <tbody>\n    <tr>\n      <th>C(교육기관)</th>\n      <td>3.0</td>\n      <td>1157.125</td>\n      <td>385.708333</td>\n      <td>3.010197</td>\n      <td>0.046812</td>\n    </tr>\n    <tr>\n      <th>Residual</th>\n      <td>28.0</td>\n      <td>3587.750</td>\n      <td>128.133929</td>\n      <td>NaN</td>\n      <td>NaN</td>\n    </tr>\n  </tbody>\n</table>\n</div>"
     },
     "execution_count": 9,
     "metadata": {},
     "output_type": "execute_result"
    }
   ],
   "source": [
    "from statsmodels.formula.api import ols\n",
    "from statsmodels.stats.anova import anova_lm\n",
    "\n",
    "model_1A = ols('점수 ~C(교육기관)', data).fit()\n",
    "anova_lm_result = anova_lm(model_1A)\n",
    "anova_lm_result"
   ],
   "metadata": {
    "collapsed": false,
    "pycharm": {
     "name": "#%%\n"
    }
   }
  },
  {
   "cell_type": "code",
   "execution_count": 10,
   "outputs": [
    {
     "name": "stdout",
     "output_type": "stream",
     "text": [
      "귀무가설 기각, 4개의 교육훈련 기법간의 차이가 있다.\n"
     ]
    }
   ],
   "source": [
    "pval = anova_lm_result['PR(>F)'][0]\n",
    "\n",
    "if pval < 0.05:\n",
    "    print('귀무가설 기각, 4개의 교육훈련 기법간의 차이가 있다.')\n",
    "else:\n",
    "    print('귀무가설 채택, 4개의 교육ㅎㄴ련 기법간의 차이가 없다.')"
   ],
   "metadata": {
    "collapsed": false,
    "pycharm": {
     "name": "#%%\n"
    }
   }
  },
  {
   "cell_type": "code",
   "execution_count": 11,
   "outputs": [
    {
     "data": {
      "text/plain": "<class 'statsmodels.iolib.table.SimpleTable'>",
      "text/html": "<table class=\"simpletable\">\n<caption>Multiple Comparison of Means - Tukey HSD, FWER=0.05</caption>\n<tr>\n  <th>group1</th> <th>group2</th> <th>meandiff</th>  <th>p-adj</th>   <th>lower</th>   <th>upper</th>  <th>reject</th>\n</tr>\n<tr>\n     <td>a</td>      <td>b</td>    <td>-13.625</td> <td>0.0988</td> <td>-29.0781</td> <td>1.8281</td>   <td>False</td>\n</tr>\n<tr>\n     <td>a</td>      <td>c</td>    <td>-15.625</td> <td>0.0468</td> <td>-31.0781</td> <td>-0.1719</td>  <td>True</td> \n</tr>\n<tr>\n     <td>a</td>      <td>d</td>     <td>-9.5</td>   <td>0.3535</td> <td>-24.9531</td> <td>5.9531</td>   <td>False</td>\n</tr>\n<tr>\n     <td>b</td>      <td>c</td>     <td>-2.0</td>   <td>0.9845</td> <td>-17.4531</td> <td>13.4531</td>  <td>False</td>\n</tr>\n<tr>\n     <td>b</td>      <td>d</td>     <td>4.125</td>  <td>0.8847</td> <td>-11.3281</td> <td>19.5781</td>  <td>False</td>\n</tr>\n<tr>\n     <td>c</td>      <td>d</td>     <td>6.125</td>   <td>0.703</td>  <td>-9.3281</td> <td>21.5781</td>  <td>False</td>\n</tr>\n</table>"
     },
     "execution_count": 11,
     "metadata": {},
     "output_type": "execute_result"
    }
   ],
   "source": [
    "from statsmodels.stats.multicomp import pairwise_tukeyhsd\n",
    "\n",
    "NSD = pairwise_tukeyhsd(data['점수'], data['교육기관'], alpha=0.05)\n",
    "NSD.summary()"
   ],
   "metadata": {
    "collapsed": false,
    "pycharm": {
     "name": "#%%\n"
    }
   }
  },
  {
   "cell_type": "code",
   "execution_count": 20,
   "outputs": [],
   "source": [
    "dat=pd.DataFrame({'판유리':['유리1', '유리1', '유리1', '유리2', '유리2', '유리2', '유리3', '유리3', '유리3',\n",
    "                          '유리1','유리1','유리1', '유리2', '유리2', '유리2', '유리3', '유리3', '유리3',\n",
    "                          '유리1','유리1','유리1', '유리2', '유리2', '유리2', '유리3', '유리3', '유리3'],\n",
    "                   '온도':[100, 100, 100, 100, 100, 100, 100, 100, 100, 125, 125, 125, 125, 125, 125, 125, 125, 125,\n",
    "                         150, 150, 150, 150, 150, 150, 150, 150, 150],\n",
    "                   '강도':[580, 568, 570, 550, 530, 579, 546, 575, 599, 1090, 1087, 1085, 1070,\n",
    "                         1035, 1000, 1045, 1053, 1066, 1392, 1380, 1386, 1328, 1312, 1299, 867, 904, 889]\n",
    "                   })"
   ],
   "metadata": {
    "collapsed": false,
    "pycharm": {
     "name": "#%%\n"
    }
   }
  },
  {
   "cell_type": "code",
   "execution_count": 21,
   "outputs": [
    {
     "data": {
      "text/plain": "   판유리   온도   강도\n0  유리1  100  580\n1  유리1  100  568\n2  유리1  100  570\n3  유리2  100  550\n4  유리2  100  530",
      "text/html": "<div>\n<style scoped>\n    .dataframe tbody tr th:only-of-type {\n        vertical-align: middle;\n    }\n\n    .dataframe tbody tr th {\n        vertical-align: top;\n    }\n\n    .dataframe thead th {\n        text-align: right;\n    }\n</style>\n<table border=\"1\" class=\"dataframe\">\n  <thead>\n    <tr style=\"text-align: right;\">\n      <th></th>\n      <th>판유리</th>\n      <th>온도</th>\n      <th>강도</th>\n    </tr>\n  </thead>\n  <tbody>\n    <tr>\n      <th>0</th>\n      <td>유리1</td>\n      <td>100</td>\n      <td>580</td>\n    </tr>\n    <tr>\n      <th>1</th>\n      <td>유리1</td>\n      <td>100</td>\n      <td>568</td>\n    </tr>\n    <tr>\n      <th>2</th>\n      <td>유리1</td>\n      <td>100</td>\n      <td>570</td>\n    </tr>\n    <tr>\n      <th>3</th>\n      <td>유리2</td>\n      <td>100</td>\n      <td>550</td>\n    </tr>\n    <tr>\n      <th>4</th>\n      <td>유리2</td>\n      <td>100</td>\n      <td>530</td>\n    </tr>\n  </tbody>\n</table>\n</div>"
     },
     "execution_count": 21,
     "metadata": {},
     "output_type": "execute_result"
    }
   ],
   "source": [
    "dat.head()"
   ],
   "metadata": {
    "collapsed": false,
    "pycharm": {
     "name": "#%%\n"
    }
   }
  },
  {
   "cell_type": "code",
   "execution_count": 22,
   "outputs": [
    {
     "data": {
      "text/plain": "         강도\n판유리 온도     \n유리1 100   3\n    125   3\n    150   3\n유리2 100   3\n    125   3\n    150   3\n유리3 100   3\n    125   3\n    150   3",
      "text/html": "<div>\n<style scoped>\n    .dataframe tbody tr th:only-of-type {\n        vertical-align: middle;\n    }\n\n    .dataframe tbody tr th {\n        vertical-align: top;\n    }\n\n    .dataframe thead th {\n        text-align: right;\n    }\n</style>\n<table border=\"1\" class=\"dataframe\">\n  <thead>\n    <tr style=\"text-align: right;\">\n      <th></th>\n      <th></th>\n      <th>강도</th>\n    </tr>\n    <tr>\n      <th>판유리</th>\n      <th>온도</th>\n      <th></th>\n    </tr>\n  </thead>\n  <tbody>\n    <tr>\n      <th rowspan=\"3\" valign=\"top\">유리1</th>\n      <th>100</th>\n      <td>3</td>\n    </tr>\n    <tr>\n      <th>125</th>\n      <td>3</td>\n    </tr>\n    <tr>\n      <th>150</th>\n      <td>3</td>\n    </tr>\n    <tr>\n      <th rowspan=\"3\" valign=\"top\">유리2</th>\n      <th>100</th>\n      <td>3</td>\n    </tr>\n    <tr>\n      <th>125</th>\n      <td>3</td>\n    </tr>\n    <tr>\n      <th>150</th>\n      <td>3</td>\n    </tr>\n    <tr>\n      <th rowspan=\"3\" valign=\"top\">유리3</th>\n      <th>100</th>\n      <td>3</td>\n    </tr>\n    <tr>\n      <th>125</th>\n      <td>3</td>\n    </tr>\n    <tr>\n      <th>150</th>\n      <td>3</td>\n    </tr>\n  </tbody>\n</table>\n</div>"
     },
     "execution_count": 22,
     "metadata": {},
     "output_type": "execute_result"
    }
   ],
   "source": [
    "dat.groupby(['판유리', '온도']).agg(len)"
   ],
   "metadata": {
    "collapsed": false,
    "pycharm": {
     "name": "#%%\n"
    }
   }
  },
  {
   "cell_type": "code",
   "execution_count": 25,
   "outputs": [],
   "source": [
    "from statsmodels.formula.api import ols\n",
    "from statsmodels.stats.anova import anova_lm\n",
    "\n",
    "model = ols('강도 ~ C(판유리) * C(온도)', dat).fit()\n",
    "anova_result = pd.DataFrame(anova_lm(model))"
   ],
   "metadata": {
    "collapsed": false,
    "pycharm": {
     "name": "#%%\n"
    }
   }
  },
  {
   "cell_type": "code",
   "execution_count": 26,
   "outputs": [
    {
     "data": {
      "text/plain": "                df        sum_sq        mean_sq            F        PR(>F)\nC(판유리)         2.0  1.508645e+05   75432.259259   206.370554  3.886026e-13\nC(온도)          2.0  1.970335e+06  985167.259259  2695.259499  5.008957e-23\nC(판유리):C(온도)   4.0  2.905517e+05   72637.925926   198.725707  1.254188e-14\nResidual      18.0  6.579333e+03     365.518519          NaN           NaN",
      "text/html": "<div>\n<style scoped>\n    .dataframe tbody tr th:only-of-type {\n        vertical-align: middle;\n    }\n\n    .dataframe tbody tr th {\n        vertical-align: top;\n    }\n\n    .dataframe thead th {\n        text-align: right;\n    }\n</style>\n<table border=\"1\" class=\"dataframe\">\n  <thead>\n    <tr style=\"text-align: right;\">\n      <th></th>\n      <th>df</th>\n      <th>sum_sq</th>\n      <th>mean_sq</th>\n      <th>F</th>\n      <th>PR(&gt;F)</th>\n    </tr>\n  </thead>\n  <tbody>\n    <tr>\n      <th>C(판유리)</th>\n      <td>2.0</td>\n      <td>1.508645e+05</td>\n      <td>75432.259259</td>\n      <td>206.370554</td>\n      <td>3.886026e-13</td>\n    </tr>\n    <tr>\n      <th>C(온도)</th>\n      <td>2.0</td>\n      <td>1.970335e+06</td>\n      <td>985167.259259</td>\n      <td>2695.259499</td>\n      <td>5.008957e-23</td>\n    </tr>\n    <tr>\n      <th>C(판유리):C(온도)</th>\n      <td>4.0</td>\n      <td>2.905517e+05</td>\n      <td>72637.925926</td>\n      <td>198.725707</td>\n      <td>1.254188e-14</td>\n    </tr>\n    <tr>\n      <th>Residual</th>\n      <td>18.0</td>\n      <td>6.579333e+03</td>\n      <td>365.518519</td>\n      <td>NaN</td>\n      <td>NaN</td>\n    </tr>\n  </tbody>\n</table>\n</div>"
     },
     "execution_count": 26,
     "metadata": {},
     "output_type": "execute_result"
    }
   ],
   "source": [
    "anova_result"
   ],
   "metadata": {
    "collapsed": false,
    "pycharm": {
     "name": "#%%\n"
    }
   }
  },
  {
   "cell_type": "code",
   "execution_count": 27,
   "outputs": [
    {
     "name": "stdout",
     "output_type": "stream",
     "text": [
      "    Multiple Comparison of Means - Tukey HSD, FWER=0.05    \n",
      "===========================================================\n",
      " group1  group2  meandiff p-adj    lower     upper   reject\n",
      "-----------------------------------------------------------\n",
      "유리1/100 유리1/125  514.6667    0.0  459.9706  569.3627   True\n",
      "유리1/100 유리1/150  813.3333    0.0  758.6373  868.0294   True\n",
      "유리1/100 유리2/100  -19.6667 0.9307  -74.3627   35.0294  False\n",
      "유리1/100 유리2/125  462.3333    0.0  407.6373  517.0294   True\n",
      "유리1/100 유리2/150  740.3333    0.0  685.6373  795.0294   True\n",
      "유리1/100 유리3/100    0.6667    1.0  -54.0294   55.3627  False\n",
      "유리1/100 유리3/125     482.0    0.0  427.3039  536.6961   True\n",
      "유리1/100 유리3/150     314.0    0.0  259.3039  368.6961   True\n",
      "유리1/125 유리1/150  298.6667    0.0  243.9706  353.3627   True\n",
      "유리1/125 유리2/100 -534.3333    0.0 -589.0294 -479.6373   True\n",
      "유리1/125 유리2/125  -52.3333  0.067 -107.0294    2.3627  False\n",
      "유리1/125 유리2/150  225.6667    0.0  170.9706  280.3627   True\n",
      "유리1/125 유리3/100    -514.0    0.0 -568.6961 -459.3039   True\n",
      "유리1/125 유리3/125  -32.6667 0.5066  -87.3627   22.0294  False\n",
      "유리1/125 유리3/150 -200.6667    0.0 -255.3627 -145.9706   True\n",
      "유리1/150 유리2/100    -833.0    0.0 -887.6961 -778.3039   True\n",
      "유리1/150 유리2/125    -351.0    0.0 -405.6961 -296.3039   True\n",
      "유리1/150 유리2/150     -73.0 0.0046 -127.6961  -18.3039   True\n",
      "유리1/150 유리3/100 -812.6667    0.0 -867.3627 -757.9706   True\n",
      "유리1/150 유리3/125 -331.3333    0.0 -386.0294 -276.6373   True\n",
      "유리1/150 유리3/150 -499.3333    0.0 -554.0294 -444.6373   True\n",
      "유리2/100 유리2/125     482.0    0.0  427.3039  536.6961   True\n",
      "유리2/100 유리2/150     760.0    0.0  705.3039  814.6961   True\n",
      "유리2/100 유리3/100   20.3333  0.918  -34.3627   75.0294  False\n",
      "유리2/100 유리3/125  501.6667    0.0  446.9706  556.3627   True\n",
      "유리2/100 유리3/150  333.6667    0.0  278.9706  388.3627   True\n",
      "유리2/125 유리2/150     278.0    0.0  223.3039  332.6961   True\n",
      "유리2/125 유리3/100 -461.6667    0.0 -516.3627 -406.9706   True\n",
      "유리2/125 유리3/125   19.6667 0.9307  -35.0294   74.3627  False\n",
      "유리2/125 유리3/150 -148.3333    0.0 -203.0294  -93.6373   True\n",
      "유리2/150 유리3/100 -739.6667    0.0 -794.3627 -684.9706   True\n",
      "유리2/150 유리3/125 -258.3333    0.0 -313.0294 -203.6373   True\n",
      "유리2/150 유리3/150 -426.3333    0.0 -481.0294 -371.6373   True\n",
      "유리3/100 유리3/125  481.3333    0.0  426.6373  536.0294   True\n",
      "유리3/100 유리3/150  313.3333    0.0  258.6373  368.0294   True\n",
      "유리3/125 유리3/150    -168.0    0.0 -222.6961 -113.3039   True\n",
      "-----------------------------------------------------------\n"
     ]
    }
   ],
   "source": [
    "dat['온도'] = dat['온도'].astype('str')\n",
    "dat['combi'] = dat.판유리 + '/' + dat.온도\n",
    "print(pairwise_tukeyhsd(dat['강도'], dat['combi']))"
   ],
   "metadata": {
    "collapsed": false,
    "pycharm": {
     "name": "#%%\n"
    }
   }
  },
  {
   "cell_type": "code",
   "execution_count": 27,
   "outputs": [],
   "source": [],
   "metadata": {
    "collapsed": false,
    "pycharm": {
     "name": "#%%\n"
    }
   }
  },
  {
   "cell_type": "code",
   "execution_count": null,
   "outputs": [],
   "source": [],
   "metadata": {
    "collapsed": false,
    "pycharm": {
     "name": "#%%\n"
    }
   }
  }
 ],
 "metadata": {
  "kernelspec": {
   "display_name": "Python 3",
   "language": "python",
   "name": "python3"
  },
  "language_info": {
   "codemirror_mode": {
    "name": "ipython",
    "version": 2
   },
   "file_extension": ".py",
   "mimetype": "text/x-python",
   "name": "python",
   "nbconvert_exporter": "python",
   "pygments_lexer": "ipython2",
   "version": "2.7.6"
  }
 },
 "nbformat": 4,
 "nbformat_minor": 0
}